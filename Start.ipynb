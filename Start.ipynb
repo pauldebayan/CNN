{
 "cells": [
  {
   "cell_type": "code",
   "execution_count": 2,
   "metadata": {},
   "outputs": [
    {
     "data": {
      "text/plain": [
       "7"
      ]
     },
     "execution_count": 2,
     "metadata": {},
     "output_type": "execute_result"
    }
   ],
   "source": [
    "2+5"
   ]
  },
  {
   "cell_type": "code",
   "execution_count": 6,
   "metadata": {},
   "outputs": [
    {
     "name": "stdout",
     "output_type": "stream",
     "text": [
      "2.4.1+cu121\n"
     ]
    }
   ],
   "source": [
    "import torch\n",
    "print(torch.__version__)"
   ]
  },
  {
   "cell_type": "markdown",
   "metadata": {},
   "source": [
    "## CIFAR-10\n",
    "## 10 Classe, 6000 per class, 60K Images\n",
    "\n",
    "![Cifar10](images/vlcsnap-2024-09-15-17h39m07s405.png)\n",
    "\n",
    "\n",
    "\n"
   ]
  },
  {
   "cell_type": "code",
   "execution_count": 13,
   "metadata": {},
   "outputs": [],
   "source": [
    "import torch\n",
    "import torchvision\n",
    "import torchvision.transforms as transforms"
   ]
  },
  {
   "cell_type": "code",
   "execution_count": 14,
   "metadata": {},
   "outputs": [],
   "source": [
    "# Transform variable\n",
    "# Compose allows us to add an arrayof different transformations\n",
    "transform = transforms.Compose([\n",
    "\n",
    "    # trainset dataset(below) to tensor\n",
    "    transforms.ToTensor(),\n",
    "\n",
    "    # normalization: Every pixel 0-255, divide by 255, to get values between 0 and 255\n",
    "    # But here - from [0, 1] to [-1, 1]\n",
    "    # parameters - means, std and apply it for each channels - RGB - 3 channels\n",
    "    transforms.Normalize(\n",
    "\n",
    "    )\n",
    "\n",
    "])"
   ]
  },
  {
   "cell_type": "code",
   "execution_count": 15,
   "metadata": {},
   "outputs": [
    {
     "name": "stdout",
     "output_type": "stream",
     "text": [
      "Files already downloaded and verified\n"
     ]
    }
   ],
   "source": [
    "# Load Dataset - Train\n",
    "trainset = torchvision.datasets.CIFAR10(\n",
    "    root = \"./data\", # download the dataset in the directory 'data'\n",
    "    download = True, \n",
    "    train = True,\n",
    "    #We need to transform everything to tensor\n",
    "    transform = transform\n",
    ")"
   ]
  },
  {
   "cell_type": "code",
   "execution_count": null,
   "metadata": {},
   "outputs": [],
   "source": [
    "# Normalize the dataset"
   ]
  }
 ],
 "metadata": {
  "kernelspec": {
   "display_name": ".venv",
   "language": "python",
   "name": "python3"
  },
  "language_info": {
   "codemirror_mode": {
    "name": "ipython",
    "version": 3
   },
   "file_extension": ".py",
   "mimetype": "text/x-python",
   "name": "python",
   "nbconvert_exporter": "python",
   "pygments_lexer": "ipython3",
   "version": "3.8.10"
  }
 },
 "nbformat": 4,
 "nbformat_minor": 2
}
